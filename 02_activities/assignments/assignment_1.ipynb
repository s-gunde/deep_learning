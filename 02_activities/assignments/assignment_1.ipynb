{
 "cells": [
  {
   "cell_type": "markdown",
   "id": "ba8ab56f",
   "metadata": {},
   "source": [
    "# Advanced Image Classification with ImageNet"
   ]
  },
  {
   "cell_type": "markdown",
   "id": "7c630244b8fe2847",
   "metadata": {
    "collapsed": false
   },
   "source": [
    "In this assignment, you will be asked to develop a convolutional neural network (CNN) to classify images from the CIFAR-100 dataset. At each step, you'll be guided through the process of developing a model architecture to solve a problem. Your goal is to create a CNN that attains at least 55% accuracy on the validation set.\n",
    "\n",
    "### The CIFAR-100 Dataset\n",
    "\n",
    "The [CIFAR-100 dataset](https://www.cs.toronto.edu/~kriz/cifar.html) consists of 60000 32x32 colour images in 100 classes, with 600 images per class. There are 50000 training images and 10000 test images. The dataset is divided into five training batches and one test batch, each with 10000 images. The test batch contains exactly 1000 randomly-selected images from each class. The training batches contain the remaining images in random order, but some training batches may contain more images from one class than another. Between them, the training batches contain exactly 500 images from each class.\n",
    "\n",
    "### Tools\n",
    "\n",
    "You will use Keras with TensorFlow to develop your CNN. For this assignment, it's strongly recommended that you use a GPU to accelerate your training, or else you might find it difficult to train your network in a reasonable amount of time. If you have a computer with a GPU that you wish to use, you can follow the [TensorFlow instructions](https://www.tensorflow.org/install/) for installing TensorFlow with GPU support. Otherwise, you can use [Google Colab](https://colab.research.google.com/) to complete this assignment. Colab provides free access to GPU-enabled machines. If you run into any issues, please contact us as soon as possible so that we can help you resolve them."
   ]
  },
  {
   "cell_type": "markdown",
   "id": "fab62988ece1528d",
   "metadata": {
    "collapsed": false
   },
   "source": [
    "## Task 1: Data Exploration and Preprocessing (Complete or Incomplete)\n",
    "### 1a: Load and Explore the Dataset\n",
    "- Use the code below to download the dataset.\n",
    "- Explore the dataset: examine the shape of the training and test sets, the dimensions of the images, and the number of classes. Show a few examples from the training set."
   ]
  },
  {
   "cell_type": "code",
   "execution_count": 1,
   "id": "8820fcdc5ae52ae2",
   "metadata": {
    "ExecuteTime": {
     "start_time": "2024-01-26T17:04:08.432758Z"
    },
    "collapsed": false,
    "is_executing": true
   },
   "outputs": [],
   "source": [
    "from keras.datasets import cifar100\n",
    "import numpy as np\n",
    "import tensorflow as tf\n",
    "from tensorflow.keras import datasets, layers, models\n",
    "import matplotlib.pyplot as plt\n",
    "\n",
    "\n",
    "# Load the CIFAR-100 dataset\n",
    "(x_train, y_train), (x_test, y_test) = cifar100.load_data(label_mode='fine')"
   ]
  },
  {
   "cell_type": "code",
   "execution_count": 2,
   "id": "a386b4072078138f",
   "metadata": {
    "collapsed": false
   },
   "outputs": [
    {
     "name": "stdout",
     "output_type": "stream",
     "text": [
      "Training set shape: (50000, 32, 32, 3), Training Labels shape: (50000, 1)\n",
      "Test set shape: (10000, 32, 32, 3), Test Labels shape: (10000, 1)\n"
     ]
    }
   ],
   "source": [
    "# Display shape of the training and test sets\n",
    "\n",
    "print(f'Training set shape: {x_train.shape}, Training Labels shape: {y_train.shape}')\n",
    "print(f'Test set shape: {x_test.shape}, Test Labels shape: {y_test.shape}')"
   ]
  },
  {
   "cell_type": "code",
   "execution_count": 3,
   "id": "5b79f072",
   "metadata": {},
   "outputs": [
    {
     "name": "stdout",
     "output_type": "stream",
     "text": [
      "Dimensions of a single image: (32, 32, 3)\n",
      "Number of classes: 100\n"
     ]
    }
   ],
   "source": [
    "# Print the dimensions of a single image and the number of classes\n",
    "\n",
    "print(f'Dimensions of a single image: {x_train[0].shape}')\n",
    "print(f'Number of classes: {len(np.unique(y_train))}')\n"
   ]
  },
  {
   "cell_type": "code",
   "execution_count": 4,
   "id": "f6740ed2",
   "metadata": {},
   "outputs": [
    {
     "name": "stdout",
     "output_type": "stream",
     "text": [
      "Class names: (array([[[[199, 215, 249],\n",
      "         [196, 211, 244],\n",
      "         [195, 210, 243],\n",
      "         ...,\n",
      "         [216, 231, 250],\n",
      "         [217, 231, 250],\n",
      "         [224, 234, 252]],\n",
      "\n",
      "        [[197, 210, 239],\n",
      "         [195, 208, 238],\n",
      "         [195, 210, 240],\n",
      "         ...,\n",
      "         [231, 243, 250],\n",
      "         [233, 243, 250],\n",
      "         [241, 245, 253]],\n",
      "\n",
      "        [[222, 226, 246],\n",
      "         [213, 220, 242],\n",
      "         [209, 219, 243],\n",
      "         ...,\n",
      "         [243, 250, 251],\n",
      "         [244, 249, 251],\n",
      "         [250, 250, 253]],\n",
      "\n",
      "        ...,\n",
      "\n",
      "        [[ 72,  73,  99],\n",
      "         [ 71,  74, 102],\n",
      "         [ 74,  78, 108],\n",
      "         ...,\n",
      "         [220, 208, 217],\n",
      "         [183, 168, 181],\n",
      "         [155, 141, 150]],\n",
      "\n",
      "        [[ 72,  75, 104],\n",
      "         [ 76,  81, 111],\n",
      "         [ 84,  89, 122],\n",
      "         ...,\n",
      "         [222, 212, 220],\n",
      "         [187, 174, 192],\n",
      "         [145, 132, 149]],\n",
      "\n",
      "        [[ 80,  85, 118],\n",
      "         [ 84,  90, 123],\n",
      "         [ 85,  92, 127],\n",
      "         ...,\n",
      "         [217, 207, 215],\n",
      "         [207, 194, 211],\n",
      "         [176, 164, 183]]],\n",
      "\n",
      "\n",
      "       [[[113, 130,  98],\n",
      "         [ 88, 105,  73],\n",
      "         [ 72,  89,  58],\n",
      "         ...,\n",
      "         [105, 124,  93],\n",
      "         [ 86, 106,  74],\n",
      "         [ 63,  82,  55]],\n",
      "\n",
      "        [[ 95, 113,  80],\n",
      "         [ 78,  97,  64],\n",
      "         [ 62,  80,  49],\n",
      "         ...,\n",
      "         [103, 122,  84],\n",
      "         [ 89, 109,  70],\n",
      "         [ 65,  83,  49]],\n",
      "\n",
      "        [[ 79,  97,  62],\n",
      "         [ 65,  82,  49],\n",
      "         [ 52,  67,  37],\n",
      "         ...,\n",
      "         [ 65,  79,  52],\n",
      "         [ 62,  79,  51],\n",
      "         [ 49,  64,  38]],\n",
      "\n",
      "        ...,\n",
      "\n",
      "        [[121, 102,  86],\n",
      "         [127, 108,  96],\n",
      "         [139, 121, 111],\n",
      "         ...,\n",
      "         [ 80, 100,  71],\n",
      "         [ 75,  95,  68],\n",
      "         [ 66,  85,  62]],\n",
      "\n",
      "        [[170, 145, 131],\n",
      "         [167, 145, 132],\n",
      "         [159, 140, 128],\n",
      "         ...,\n",
      "         [100, 113,  84],\n",
      "         [ 89, 103,  77],\n",
      "         [ 73,  87,  64]],\n",
      "\n",
      "        [[168, 150, 135],\n",
      "         [170, 152, 137],\n",
      "         [173, 156, 141],\n",
      "         ...,\n",
      "         [118, 123,  96],\n",
      "         [ 99, 106,  80],\n",
      "         [ 84,  92,  67]]],\n",
      "\n",
      "\n",
      "       [[[ 61,  90, 120],\n",
      "         [ 61,  89, 119],\n",
      "         [ 67,  96, 125],\n",
      "         ...,\n",
      "         [ 70,  93, 124],\n",
      "         [ 64,  87, 118],\n",
      "         [ 64,  88, 119]],\n",
      "\n",
      "        [[ 67,  97, 127],\n",
      "         [ 78, 108, 138],\n",
      "         [ 80, 109, 139],\n",
      "         ...,\n",
      "         [ 95, 113, 142],\n",
      "         [ 83, 101, 129],\n",
      "         [ 83, 102, 130]],\n",
      "\n",
      "        [[ 64,  93, 123],\n",
      "         [ 66,  95, 125],\n",
      "         [ 61,  90, 120],\n",
      "         ...,\n",
      "         [120, 134, 160],\n",
      "         [109, 123, 150],\n",
      "         [112, 126, 152]],\n",
      "\n",
      "        ...,\n",
      "\n",
      "        [[ 84,  87,  87],\n",
      "         [ 67,  59,  38],\n",
      "         [ 84,  78,  33],\n",
      "         ...,\n",
      "         [204, 167, 160],\n",
      "         [235, 202, 192],\n",
      "         [236, 206, 193]],\n",
      "\n",
      "        [[ 72,  64,  54],\n",
      "         [ 70,  54,  30],\n",
      "         [ 84,  79,  40],\n",
      "         ...,\n",
      "         [199, 157, 152],\n",
      "         [190, 150, 142],\n",
      "         [196, 161, 149]],\n",
      "\n",
      "        [[ 72,  61,  47],\n",
      "         [ 76,  64,  35],\n",
      "         [ 77,  74,  37],\n",
      "         ...,\n",
      "         [227, 191, 189],\n",
      "         [155, 119, 115],\n",
      "         [134,  98,  89]]],\n",
      "\n",
      "\n",
      "       ...,\n",
      "\n",
      "\n",
      "       [[[ 24,  38,  31],\n",
      "         [ 24,  40,  31],\n",
      "         [ 22,  34,  28],\n",
      "         ...,\n",
      "         [ 56,  59,  55],\n",
      "         [ 35,  40,  37],\n",
      "         [ 25,  35,  32]],\n",
      "\n",
      "        [[ 19,  29,  26],\n",
      "         [ 28,  45,  35],\n",
      "         [ 25,  40,  29],\n",
      "         ...,\n",
      "         [ 55,  57,  58],\n",
      "         [ 38,  42,  44],\n",
      "         [ 36,  44,  39]],\n",
      "\n",
      "        [[ 23,  38,  28],\n",
      "         [ 31,  51,  35],\n",
      "         [ 29,  50,  32],\n",
      "         ...,\n",
      "         [ 33,  41,  36],\n",
      "         [ 33,  37,  41],\n",
      "         [ 42,  49,  44]],\n",
      "\n",
      "        ...,\n",
      "\n",
      "        [[ 39,  73,  29],\n",
      "         [ 47,  95,  25],\n",
      "         [ 61, 104,  44],\n",
      "         ...,\n",
      "         [ 41,  79,  35],\n",
      "         [ 71, 103,  72],\n",
      "         [ 54,  93,  53]],\n",
      "\n",
      "        [[ 39,  72,  34],\n",
      "         [ 40,  91,  18],\n",
      "         [ 51,  96,  33],\n",
      "         ...,\n",
      "         [ 33,  70,  24],\n",
      "         [ 67, 100,  62],\n",
      "         [ 61, 101,  55]],\n",
      "\n",
      "        [[ 48,  89,  33],\n",
      "         [ 37,  83,  17],\n",
      "         [ 46,  91,  24],\n",
      "         ...,\n",
      "         [ 33,  66,  20],\n",
      "         [ 65,  95,  54],\n",
      "         [ 60,  94,  54]]],\n",
      "\n",
      "\n",
      "       [[[ 86,  90,  80],\n",
      "         [ 93,  90,  75],\n",
      "         [ 28,  25,  21],\n",
      "         ...,\n",
      "         [ 73,  52,  36],\n",
      "         [ 67,  49,  39],\n",
      "         [ 92,  71,  61]],\n",
      "\n",
      "        [[ 82,  86,  80],\n",
      "         [ 43,  44,  41],\n",
      "         [ 17,  17,  18],\n",
      "         ...,\n",
      "         [ 65,  42,  28],\n",
      "         [ 34,  23,  16],\n",
      "         [ 56,  41,  33]],\n",
      "\n",
      "        [[ 64,  66,  60],\n",
      "         [ 25,  27,  26],\n",
      "         [ 39,  39,  39],\n",
      "         ...,\n",
      "         [ 54,  37,  24],\n",
      "         [ 34,  25,  19],\n",
      "         [ 40,  31,  22]],\n",
      "\n",
      "        ...,\n",
      "\n",
      "        [[ 43,  43,  39],\n",
      "         [ 87,  82,  70],\n",
      "         [112, 105,  91],\n",
      "         ...,\n",
      "         [130, 130, 123],\n",
      "         [128, 126, 121],\n",
      "         [119, 121, 119]],\n",
      "\n",
      "        [[ 44,  42,  35],\n",
      "         [ 79,  74,  62],\n",
      "         [ 99,  95,  82],\n",
      "         ...,\n",
      "         [135, 133, 123],\n",
      "         [130, 127, 119],\n",
      "         [121, 120, 114]],\n",
      "\n",
      "        [[ 85,  82,  70],\n",
      "         [ 97,  91,  77],\n",
      "         [ 90,  88,  76],\n",
      "         ...,\n",
      "         [132, 128, 119],\n",
      "         [129, 124, 115],\n",
      "         [120, 117, 109]]],\n",
      "\n",
      "\n",
      "       [[[246, 246, 242],\n",
      "         [240, 238, 232],\n",
      "         [214, 212, 199],\n",
      "         ...,\n",
      "         [ 74,  32,  35],\n",
      "         [ 77,  34,  37],\n",
      "         [ 81,  34,  35]],\n",
      "\n",
      "        [[210, 205, 196],\n",
      "         [243, 240, 230],\n",
      "         [229, 225, 214],\n",
      "         ...,\n",
      "         [ 75,  33,  35],\n",
      "         [ 79,  35,  38],\n",
      "         [ 83,  34,  36]],\n",
      "\n",
      "        [[144, 134, 112],\n",
      "         [175, 163, 144],\n",
      "         [158, 144, 130],\n",
      "         ...,\n",
      "         [ 74,  33,  35],\n",
      "         [ 79,  35,  38],\n",
      "         [ 82,  33,  36]],\n",
      "\n",
      "        ...,\n",
      "\n",
      "        [[198, 190, 176],\n",
      "         [111, 111,  66],\n",
      "         [ 58,  55,  27],\n",
      "         ...,\n",
      "         [ 62,  81,  41],\n",
      "         [ 72, 100,  41],\n",
      "         [ 80, 107,  49]],\n",
      "\n",
      "        [[167, 160, 144],\n",
      "         [ 62,  64,  27],\n",
      "         [ 85,  85,  68],\n",
      "         ...,\n",
      "         [ 92, 126,  58],\n",
      "         [143, 183, 104],\n",
      "         [160, 199, 118]],\n",
      "\n",
      "        [[115, 108,  94],\n",
      "         [ 42,  37,  21],\n",
      "         [139, 136, 127],\n",
      "         ...,\n",
      "         [139, 172, 114],\n",
      "         [167, 204, 141],\n",
      "         [146, 182, 118]]]], dtype=uint8), array([[49],\n",
      "       [33],\n",
      "       [72],\n",
      "       ...,\n",
      "       [51],\n",
      "       [42],\n",
      "       [70]]))\n"
     ]
    }
   ],
   "source": [
    "# The CIFAR-100 dataset also provides a list of class names\n",
    "class_names = datasets.cifar100.load_data()[1]\n",
    "\n",
    "# Display the class names for reference\n",
    "print(f'Class names: {class_names}')"
   ]
  },
  {
   "cell_type": "code",
   "execution_count": 5,
   "id": "e2187dcc",
   "metadata": {},
   "outputs": [
    {
     "data": {
      "image/png": "[encoded data removed]",
      "text/plain": [
       "<Figure size 1000x500 with 5 Axes>"
      ]
     },
     "metadata": {},
     "output_type": "display_data"
    }
   ],
   "source": [
    "# Display 5 random examples from the training set\n",
    "\n",
    "plt.figure(figsize=(10, 5))\n",
    "\n",
    "for i in range(5):\n",
    "    plt.subplot(1, 5, i + 1)\n",
    "    plt.imshow(x_train[i])\n",
    "    plt.title(f'Class: {y_train[i][0]}')\n",
    "    plt.axis('off')\n",
    "\n",
    "plt.show()\n"
   ]
  },
  {
   "cell_type": "markdown",
   "id": "ff07190d",
   "metadata": {},
   "source": [
    "**Summary of Exploration:**\n",
    "\n",
    "**Training Set:** It contains 50,000 images with a shape of (50000, 32, 32, 3) (50,000 images, each 32x32 pixels with 3 color channels).\n",
    "\n",
    "**Test Set:** It contains 10,000 images with a shape of (10000, 32, 32, 3) (10,000 images, each 32x32 pixels with 3 color channels).\n",
    "\n",
    "**Image Dimensions:** Each image is 32x32 pixels, and the images are in RGB format (3 color channels).\n",
    "\n",
    "**Number of Classes:** There are 100 classes in the dataset, and each class contains 600 images.\n",
    "\n",
    "**Class Labels:** The labels are integers ranging from 0 to 99, corresponding to 100 classes."
   ]
  },
  {
   "cell_type": "markdown",
   "id": "ad49291da3a819ea",
   "metadata": {
    "collapsed": false
   },
   "source": [
    "### 1b: Data Preprocessing (4 Marks)\n",
    "- With the data downloaded, it's time to preprocess it. Start by normalizing the images so that they all have pixel values in the range [0, 1].\n",
    "- Next, convert the labels to one-hot encoded vectors.\n",
    "- Finally, split the training set into training and validation sets. Use 80% of the training set for training and the remaining 20% for validation."
   ]
  },
  {
   "cell_type": "code",
   "execution_count": 6,
   "id": "f2a2dae8",
   "metadata": {},
   "outputs": [
    {
     "name": "stdout",
     "output_type": "stream",
     "text": [
      "Pixel values of the selected image:\n",
      "[[[255 255 255]\n",
      "  [255 255 255]\n",
      "  [255 255 255]\n",
      "  ...\n",
      "  [195 205 193]\n",
      "  [212 224 204]\n",
      "  [182 194 167]]\n",
      "\n",
      " [[255 255 255]\n",
      "  [254 254 254]\n",
      "  [254 254 254]\n",
      "  ...\n",
      "  [170 176 150]\n",
      "  [161 168 130]\n",
      "  [146 154 113]]\n",
      "\n",
      " [[255 255 255]\n",
      "  [254 254 254]\n",
      "  [255 255 255]\n",
      "  ...\n",
      "  [189 199 169]\n",
      "  [166 178 130]\n",
      "  [121 133  87]]\n",
      "\n",
      " ...\n",
      "\n",
      " [[148 185  79]\n",
      "  [142 182  57]\n",
      "  [140 179  60]\n",
      "  ...\n",
      "  [ 30  17   1]\n",
      "  [ 65  62  15]\n",
      "  [ 76  77  20]]\n",
      "\n",
      " [[122 157  66]\n",
      "  [120 155  58]\n",
      "  [126 160  71]\n",
      "  ...\n",
      "  [ 22  16   3]\n",
      "  [ 97 112  56]\n",
      "  [141 161  87]]\n",
      "\n",
      " [[ 87 122  41]\n",
      "  [ 88 122  39]\n",
      "  [101 134  56]\n",
      "  ...\n",
      "  [ 34  36  10]\n",
      "  [105 133  59]\n",
      "  [138 173  79]]]\n"
     ]
    }
   ],
   "source": [
    "# Select the first image from the training set\n",
    "image = x_train[0]\n",
    "\n",
    "# Display the pixel values of this image\n",
    "print(\"Pixel values of the selected image:\")\n",
    "print(image)\n"
   ]
  },
  {
   "cell_type": "code",
   "execution_count": 7,
   "id": "7c41b587",
   "metadata": {},
   "outputs": [
    {
     "data": {
      "image/png": "[encoded data removed]",
      "text/plain": [
       "<Figure size 640x480 with 1 Axes>"
      ]
     },
     "metadata": {},
     "output_type": "display_data"
    }
   ],
   "source": [
    "import matplotlib.pyplot as plt\n",
    "\n",
    "# Visualize the first image\n",
    "plt.imshow(image)\n",
    "plt.title(\"Image\")\n",
    "plt.axis('off')  # Hide axis labels\n",
    "plt.show()\n"
   ]
  },
  {
   "cell_type": "code",
   "execution_count": 8,
   "id": "b18c10172fa72d0c",
   "metadata": {
    "collapsed": false
   },
   "outputs": [],
   "source": [
    "# # Normalize the image pixel values to the range [0, 1]\n",
    "\n",
    "x_train, x_test = x_train / 255.0, x_test / 255.0"
   ]
  },
  {
   "cell_type": "code",
   "execution_count": 16,
   "id": "b1d1ccb2",
   "metadata": {},
   "outputs": [
    {
     "name": "stdout",
     "output_type": "stream",
     "text": [
      "Pixel values of the selected image:\n",
      "[[[1.         1.         1.        ]\n",
      "  [1.         1.         1.        ]\n",
      "  [1.         1.         1.        ]\n",
      "  ...\n",
      "  [0.76470588 0.80392157 0.75686275]\n",
      "  [0.83137255 0.87843137 0.8       ]\n",
      "  [0.71372549 0.76078431 0.65490196]]\n",
      "\n",
      " [[1.         1.         1.        ]\n",
      "  [0.99607843 0.99607843 0.99607843]\n",
      "  [0.99607843 0.99607843 0.99607843]\n",
      "  ...\n",
      "  [0.66666667 0.69019608 0.58823529]\n",
      "  [0.63137255 0.65882353 0.50980392]\n",
      "  [0.57254902 0.60392157 0.44313725]]\n",
      "\n",
      " [[1.         1.         1.        ]\n",
      "  [0.99607843 0.99607843 0.99607843]\n",
      "  [1.         1.         1.        ]\n",
      "  ...\n",
      "  [0.74117647 0.78039216 0.6627451 ]\n",
      "  [0.65098039 0.69803922 0.50980392]\n",
      "  [0.4745098  0.52156863 0.34117647]]\n",
      "\n",
      " ...\n",
      "\n",
      " [[0.58039216 0.7254902  0.30980392]\n",
      "  [0.55686275 0.71372549 0.22352941]\n",
      "  [0.54901961 0.70196078 0.23529412]\n",
      "  ...\n",
      "  [0.11764706 0.06666667 0.00392157]\n",
      "  [0.25490196 0.24313725 0.05882353]\n",
      "  [0.29803922 0.30196078 0.07843137]]\n",
      "\n",
      " [[0.47843137 0.61568627 0.25882353]\n",
      "  [0.47058824 0.60784314 0.22745098]\n",
      "  [0.49411765 0.62745098 0.27843137]\n",
      "  ...\n",
      "  [0.08627451 0.0627451  0.01176471]\n",
      "  [0.38039216 0.43921569 0.21960784]\n",
      "  [0.55294118 0.63137255 0.34117647]]\n",
      "\n",
      " [[0.34117647 0.47843137 0.16078431]\n",
      "  [0.34509804 0.47843137 0.15294118]\n",
      "  [0.39607843 0.5254902  0.21960784]\n",
      "  ...\n",
      "  [0.13333333 0.14117647 0.03921569]\n",
      "  [0.41176471 0.52156863 0.23137255]\n",
      "  [0.54117647 0.67843137 0.30980392]]]\n"
     ]
    }
   ],
   "source": [
    "# After normalizing the image pixel values\n",
    "image = x_train[0]\n",
    "\n",
    "# Display the pixel values of this image\n",
    "print(\"Pixel values of the selected image:\")\n",
    "print(image)"
   ]
  },
  {
   "cell_type": "code",
   "execution_count": 17,
   "id": "fe727141",
   "metadata": {},
   "outputs": [],
   "source": [
    "# Convert labels to one-hot encoding\n",
    "\n",
    "y_train = tf.keras.utils.to_categorical(y_train, 100)\n",
    "y_test = tf.keras.utils.to_categorical(y_test, 100)"
   ]
  },
  {
   "cell_type": "code",
   "execution_count": 19,
   "id": "ded48224",
   "metadata": {},
   "outputs": [
    {
     "name": "stdout",
     "output_type": "stream",
     "text": [
      "Training set shape: (32000, 32, 32, 3), Training Labels shape: (32000, 100)\n",
      "Validation set shape: (8000, 32, 32, 3), Validation Labels shape: (8000, 100)\n",
      "Test set shape: (10000, 32, 32, 3), Test Labels shape: (10000, 100)\n"
     ]
    }
   ],
   "source": [
    "from sklearn.model_selection import train_test_split\n",
    "\n",
    "# Split the training data into 80% training and 20% validation sets\n",
    "x_train, x_val, y_train, y_val = train_test_split(x_train, y_train, test_size=0.2, random_state=42)\n",
    "\n",
    "# Check the new shapes of the datasets\n",
    "print(f'Training set shape: {x_train.shape}, Training Labels shape: {y_train.shape}')\n",
    "print(f'Validation set shape: {x_val.shape}, Validation Labels shape: {y_val.shape}')\n",
    "print(f'Test set shape: {x_test.shape}, Test Labels shape: {y_test.shape}')"
   ]
  },
  {
   "cell_type": "markdown",
   "id": "5993757f08c89db7",
   "metadata": {
    "collapsed": false
   },
   "source": [
    "## Task 2: Model Development (Complete or Incomplete)\n",
    "### Task 2a: Create a Baseline CNN Model\n",
    "- Design a CNN architecture. Your architecture should use convolutional layers, max pooling layers, and dense layers. You can use any number of layers, and you can experiment with different numbers of filters, filter sizes, strides, padding, etc. The design doesn't need to be perfect, but it should be unique to you.\n",
    "- Print out the model summary."
   ]
  },
  {
   "cell_type": "code",
   "execution_count": null,
   "id": "c9edafdaf887b8d5",
   "metadata": {
    "collapsed": false
   },
   "outputs": [
    {
     "data": {
      "text/html": [
       "<pre style=\"white-space:pre;overflow-x:auto;line-height:normal;font-family:Menlo,'DejaVu Sans Mono',consolas,'Courier New',monospace\"><span style=\"font-weight: bold\">Model: \"sequential_1\"</span>\n",
       "</pre>\n"
      ],
      "text/plain": [
       "\u001b[1mModel: \"sequential_1\"\u001b[0m\n"
      ]
     },
     "metadata": {},
     "output_type": "display_data"
    },
    {
     "data": {
      "text/html": [
       "<pre style=\"white-space:pre;overflow-x:auto;line-height:normal;font-family:Menlo,'DejaVu Sans Mono',consolas,'Courier New',monospace\">┏━━━━━━━━━━━━━━━━━━━━━━━━━━━━━━━━━┳━━━━━━━━━━━━━━━━━━━━━━━━┳━━━━━━━━━━━━━━━┓\n",
       "┃<span style=\"font-weight: bold\"> Layer (type)                    </span>┃<span style=\"font-weight: bold\"> Output Shape           </span>┃<span style=\"font-weight: bold\">       Param # </span>┃\n",
       "┡━━━━━━━━━━━━━━━━━━━━━━━━━━━━━━━━━╇━━━━━━━━━━━━━━━━━━━━━━━━╇━━━━━━━━━━━━━━━┩\n",
       "│ conv2d_3 (<span style=\"color: #0087ff; text-decoration-color: #0087ff\">Conv2D</span>)               │ (<span style=\"color: #00d7ff; text-decoration-color: #00d7ff\">None</span>, <span style=\"color: #00af00; text-decoration-color: #00af00\">32</span>, <span style=\"color: #00af00; text-decoration-color: #00af00\">32</span>, <span style=\"color: #00af00; text-decoration-color: #00af00\">16</span>)     │         <span style=\"color: #00af00; text-decoration-color: #00af00\">1,216</span> │\n",
       "├─────────────────────────────────┼────────────────────────┼───────────────┤\n",
       "│ max_pooling2d_3 (<span style=\"color: #0087ff; text-decoration-color: #0087ff\">MaxPooling2D</span>)  │ (<span style=\"color: #00d7ff; text-decoration-color: #00d7ff\">None</span>, <span style=\"color: #00af00; text-decoration-color: #00af00\">16</span>, <span style=\"color: #00af00; text-decoration-color: #00af00\">16</span>, <span style=\"color: #00af00; text-decoration-color: #00af00\">16</span>)     │             <span style=\"color: #00af00; text-decoration-color: #00af00\">0</span> │\n",
       "├─────────────────────────────────┼────────────────────────┼───────────────┤\n",
       "│ dropout_4 (<span style=\"color: #0087ff; text-decoration-color: #0087ff\">Dropout</span>)             │ (<span style=\"color: #00d7ff; text-decoration-color: #00d7ff\">None</span>, <span style=\"color: #00af00; text-decoration-color: #00af00\">16</span>, <span style=\"color: #00af00; text-decoration-color: #00af00\">16</span>, <span style=\"color: #00af00; text-decoration-color: #00af00\">16</span>)     │             <span style=\"color: #00af00; text-decoration-color: #00af00\">0</span> │\n",
       "├─────────────────────────────────┼────────────────────────┼───────────────┤\n",
       "│ conv2d_4 (<span style=\"color: #0087ff; text-decoration-color: #0087ff\">Conv2D</span>)               │ (<span style=\"color: #00d7ff; text-decoration-color: #00d7ff\">None</span>, <span style=\"color: #00af00; text-decoration-color: #00af00\">16</span>, <span style=\"color: #00af00; text-decoration-color: #00af00\">16</span>, <span style=\"color: #00af00; text-decoration-color: #00af00\">32</span>)     │         <span style=\"color: #00af00; text-decoration-color: #00af00\">4,640</span> │\n",
       "├─────────────────────────────────┼────────────────────────┼───────────────┤\n",
       "│ max_pooling2d_4 (<span style=\"color: #0087ff; text-decoration-color: #0087ff\">MaxPooling2D</span>)  │ (<span style=\"color: #00d7ff; text-decoration-color: #00d7ff\">None</span>, <span style=\"color: #00af00; text-decoration-color: #00af00\">8</span>, <span style=\"color: #00af00; text-decoration-color: #00af00\">8</span>, <span style=\"color: #00af00; text-decoration-color: #00af00\">32</span>)       │             <span style=\"color: #00af00; text-decoration-color: #00af00\">0</span> │\n",
       "├─────────────────────────────────┼────────────────────────┼───────────────┤\n",
       "│ dropout_5 (<span style=\"color: #0087ff; text-decoration-color: #0087ff\">Dropout</span>)             │ (<span style=\"color: #00d7ff; text-decoration-color: #00d7ff\">None</span>, <span style=\"color: #00af00; text-decoration-color: #00af00\">8</span>, <span style=\"color: #00af00; text-decoration-color: #00af00\">8</span>, <span style=\"color: #00af00; text-decoration-color: #00af00\">32</span>)       │             <span style=\"color: #00af00; text-decoration-color: #00af00\">0</span> │\n",
       "├─────────────────────────────────┼────────────────────────┼───────────────┤\n",
       "│ conv2d_5 (<span style=\"color: #0087ff; text-decoration-color: #0087ff\">Conv2D</span>)               │ (<span style=\"color: #00d7ff; text-decoration-color: #00d7ff\">None</span>, <span style=\"color: #00af00; text-decoration-color: #00af00\">6</span>, <span style=\"color: #00af00; text-decoration-color: #00af00\">6</span>, <span style=\"color: #00af00; text-decoration-color: #00af00\">64</span>)       │        <span style=\"color: #00af00; text-decoration-color: #00af00\">18,496</span> │\n",
       "├─────────────────────────────────┼────────────────────────┼───────────────┤\n",
       "│ max_pooling2d_5 (<span style=\"color: #0087ff; text-decoration-color: #0087ff\">MaxPooling2D</span>)  │ (<span style=\"color: #00d7ff; text-decoration-color: #00d7ff\">None</span>, <span style=\"color: #00af00; text-decoration-color: #00af00\">3</span>, <span style=\"color: #00af00; text-decoration-color: #00af00\">3</span>, <span style=\"color: #00af00; text-decoration-color: #00af00\">64</span>)       │             <span style=\"color: #00af00; text-decoration-color: #00af00\">0</span> │\n",
       "├─────────────────────────────────┼────────────────────────┼───────────────┤\n",
       "│ dropout_6 (<span style=\"color: #0087ff; text-decoration-color: #0087ff\">Dropout</span>)             │ (<span style=\"color: #00d7ff; text-decoration-color: #00d7ff\">None</span>, <span style=\"color: #00af00; text-decoration-color: #00af00\">3</span>, <span style=\"color: #00af00; text-decoration-color: #00af00\">3</span>, <span style=\"color: #00af00; text-decoration-color: #00af00\">64</span>)       │             <span style=\"color: #00af00; text-decoration-color: #00af00\">0</span> │\n",
       "├─────────────────────────────────┼────────────────────────┼───────────────┤\n",
       "│ conv2d_6 (<span style=\"color: #0087ff; text-decoration-color: #0087ff\">Conv2D</span>)               │ (<span style=\"color: #00d7ff; text-decoration-color: #00d7ff\">None</span>, <span style=\"color: #00af00; text-decoration-color: #00af00\">0</span>, <span style=\"color: #00af00; text-decoration-color: #00af00\">0</span>, <span style=\"color: #00af00; text-decoration-color: #00af00\">128</span>)      │       <span style=\"color: #00af00; text-decoration-color: #00af00\">204,928</span> │\n",
       "├─────────────────────────────────┼────────────────────────┼───────────────┤\n",
       "│ dropout_7 (<span style=\"color: #0087ff; text-decoration-color: #0087ff\">Dropout</span>)             │ (<span style=\"color: #00d7ff; text-decoration-color: #00d7ff\">None</span>, <span style=\"color: #00af00; text-decoration-color: #00af00\">0</span>, <span style=\"color: #00af00; text-decoration-color: #00af00\">0</span>, <span style=\"color: #00af00; text-decoration-color: #00af00\">128</span>)      │             <span style=\"color: #00af00; text-decoration-color: #00af00\">0</span> │\n",
       "├─────────────────────────────────┼────────────────────────┼───────────────┤\n",
       "│ flatten_1 (<span style=\"color: #0087ff; text-decoration-color: #0087ff\">Flatten</span>)             │ (<span style=\"color: #00d7ff; text-decoration-color: #00d7ff\">None</span>, <span style=\"color: #00af00; text-decoration-color: #00af00\">0</span>)              │             <span style=\"color: #00af00; text-decoration-color: #00af00\">0</span> │\n",
       "├─────────────────────────────────┼────────────────────────┼───────────────┤\n",
       "│ dense_2 (<span style=\"color: #0087ff; text-decoration-color: #0087ff\">Dense</span>)                 │ (<span style=\"color: #00d7ff; text-decoration-color: #00d7ff\">None</span>, <span style=\"color: #00af00; text-decoration-color: #00af00\">512</span>)            │           <span style=\"color: #00af00; text-decoration-color: #00af00\">512</span> │\n",
       "├─────────────────────────────────┼────────────────────────┼───────────────┤\n",
       "│ dropout_8 (<span style=\"color: #0087ff; text-decoration-color: #0087ff\">Dropout</span>)             │ (<span style=\"color: #00d7ff; text-decoration-color: #00d7ff\">None</span>, <span style=\"color: #00af00; text-decoration-color: #00af00\">512</span>)            │             <span style=\"color: #00af00; text-decoration-color: #00af00\">0</span> │\n",
       "├─────────────────────────────────┼────────────────────────┼───────────────┤\n",
       "│ dense_3 (<span style=\"color: #0087ff; text-decoration-color: #0087ff\">Dense</span>)                 │ (<span style=\"color: #00d7ff; text-decoration-color: #00d7ff\">None</span>, <span style=\"color: #00af00; text-decoration-color: #00af00\">100</span>)            │        <span style=\"color: #00af00; text-decoration-color: #00af00\">51,300</span> │\n",
       "└─────────────────────────────────┴────────────────────────┴───────────────┘\n",
       "</pre>\n"
      ],
      "text/plain": [
       "┏━━━━━━━━━━━━━━━━━━━━━━━━━━━━━━━━━┳━━━━━━━━━━━━━━━━━━━━━━━━┳━━━━━━━━━━━━━━━┓\n",
       "┃\u001b[1m \u001b[0m\u001b[1mLayer (type)                   \u001b[0m\u001b[1m \u001b[0m┃\u001b[1m \u001b[0m\u001b[1mOutput Shape          \u001b[0m\u001b[1m \u001b[0m┃\u001b[1m \u001b[0m\u001b[1m      Param #\u001b[0m\u001b[1m \u001b[0m┃\n",
       "┡━━━━━━━━━━━━━━━━━━━━━━━━━━━━━━━━━╇━━━━━━━━━━━━━━━━━━━━━━━━╇━━━━━━━━━━━━━━━┩\n",
       "│ conv2d_3 (\u001b[38;5;33mConv2D\u001b[0m)               │ (\u001b[38;5;45mNone\u001b[0m, \u001b[38;5;34m32\u001b[0m, \u001b[38;5;34m32\u001b[0m, \u001b[38;5;34m16\u001b[0m)     │         \u001b[38;5;34m1,216\u001b[0m │\n",
       "├─────────────────────────────────┼────────────────────────┼───────────────┤\n",
       "│ max_pooling2d_3 (\u001b[38;5;33mMaxPooling2D\u001b[0m)  │ (\u001b[38;5;45mNone\u001b[0m, \u001b[38;5;34m16\u001b[0m, \u001b[38;5;34m16\u001b[0m, \u001b[38;5;34m16\u001b[0m)     │             \u001b[38;5;34m0\u001b[0m │\n",
       "├─────────────────────────────────┼────────────────────────┼───────────────┤\n",
       "│ dropout_4 (\u001b[38;5;33mDropout\u001b[0m)             │ (\u001b[38;5;45mNone\u001b[0m, \u001b[38;5;34m16\u001b[0m, \u001b[38;5;34m16\u001b[0m, \u001b[38;5;34m16\u001b[0m)     │             \u001b[38;5;34m0\u001b[0m │\n",
       "├─────────────────────────────────┼────────────────────────┼───────────────┤\n",
       "│ conv2d_4 (\u001b[38;5;33mConv2D\u001b[0m)               │ (\u001b[38;5;45mNone\u001b[0m, \u001b[38;5;34m16\u001b[0m, \u001b[38;5;34m16\u001b[0m, \u001b[38;5;34m32\u001b[0m)     │         \u001b[38;5;34m4,640\u001b[0m │\n",
       "├─────────────────────────────────┼────────────────────────┼───────────────┤\n",
       "│ max_pooling2d_4 (\u001b[38;5;33mMaxPooling2D\u001b[0m)  │ (\u001b[38;5;45mNone\u001b[0m, \u001b[38;5;34m8\u001b[0m, \u001b[38;5;34m8\u001b[0m, \u001b[38;5;34m32\u001b[0m)       │             \u001b[38;5;34m0\u001b[0m │\n",
       "├─────────────────────────────────┼────────────────────────┼───────────────┤\n",
       "│ dropout_5 (\u001b[38;5;33mDropout\u001b[0m)             │ (\u001b[38;5;45mNone\u001b[0m, \u001b[38;5;34m8\u001b[0m, \u001b[38;5;34m8\u001b[0m, \u001b[38;5;34m32\u001b[0m)       │             \u001b[38;5;34m0\u001b[0m │\n",
       "├─────────────────────────────────┼────────────────────────┼───────────────┤\n",
       "│ conv2d_5 (\u001b[38;5;33mConv2D\u001b[0m)               │ (\u001b[38;5;45mNone\u001b[0m, \u001b[38;5;34m6\u001b[0m, \u001b[38;5;34m6\u001b[0m, \u001b[38;5;34m64\u001b[0m)       │        \u001b[38;5;34m18,496\u001b[0m │\n",
       "├─────────────────────────────────┼────────────────────────┼───────────────┤\n",
       "│ max_pooling2d_5 (\u001b[38;5;33mMaxPooling2D\u001b[0m)  │ (\u001b[38;5;45mNone\u001b[0m, \u001b[38;5;34m3\u001b[0m, \u001b[38;5;34m3\u001b[0m, \u001b[38;5;34m64\u001b[0m)       │             \u001b[38;5;34m0\u001b[0m │\n",
       "├─────────────────────────────────┼────────────────────────┼───────────────┤\n",
       "│ dropout_6 (\u001b[38;5;33mDropout\u001b[0m)             │ (\u001b[38;5;45mNone\u001b[0m, \u001b[38;5;34m3\u001b[0m, \u001b[38;5;34m3\u001b[0m, \u001b[38;5;34m64\u001b[0m)       │             \u001b[38;5;34m0\u001b[0m │\n",
       "├─────────────────────────────────┼────────────────────────┼───────────────┤\n",
       "│ conv2d_6 (\u001b[38;5;33mConv2D\u001b[0m)               │ (\u001b[38;5;45mNone\u001b[0m, \u001b[38;5;34m0\u001b[0m, \u001b[38;5;34m0\u001b[0m, \u001b[38;5;34m128\u001b[0m)      │       \u001b[38;5;34m204,928\u001b[0m │\n",
       "├─────────────────────────────────┼────────────────────────┼───────────────┤\n",
       "│ dropout_7 (\u001b[38;5;33mDropout\u001b[0m)             │ (\u001b[38;5;45mNone\u001b[0m, \u001b[38;5;34m0\u001b[0m, \u001b[38;5;34m0\u001b[0m, \u001b[38;5;34m128\u001b[0m)      │             \u001b[38;5;34m0\u001b[0m │\n",
       "├─────────────────────────────────┼────────────────────────┼───────────────┤\n",
       "│ flatten_1 (\u001b[38;5;33mFlatten\u001b[0m)             │ (\u001b[38;5;45mNone\u001b[0m, \u001b[38;5;34m0\u001b[0m)              │             \u001b[38;5;34m0\u001b[0m │\n",
       "├─────────────────────────────────┼────────────────────────┼───────────────┤\n",
       "│ dense_2 (\u001b[38;5;33mDense\u001b[0m)                 │ (\u001b[38;5;45mNone\u001b[0m, \u001b[38;5;34m512\u001b[0m)            │           \u001b[38;5;34m512\u001b[0m │\n",
       "├─────────────────────────────────┼────────────────────────┼───────────────┤\n",
       "│ dropout_8 (\u001b[38;5;33mDropout\u001b[0m)             │ (\u001b[38;5;45mNone\u001b[0m, \u001b[38;5;34m512\u001b[0m)            │             \u001b[38;5;34m0\u001b[0m │\n",
       "├─────────────────────────────────┼────────────────────────┼───────────────┤\n",
       "│ dense_3 (\u001b[38;5;33mDense\u001b[0m)                 │ (\u001b[38;5;45mNone\u001b[0m, \u001b[38;5;34m100\u001b[0m)            │        \u001b[38;5;34m51,300\u001b[0m │\n",
       "└─────────────────────────────────┴────────────────────────┴───────────────┘\n"
      ]
     },
     "metadata": {},
     "output_type": "display_data"
    },
    {
     "data": {
      "text/html": [
       "<pre style=\"white-space:pre;overflow-x:auto;line-height:normal;font-family:Menlo,'DejaVu Sans Mono',consolas,'Courier New',monospace\"><span style=\"font-weight: bold\"> Total params: </span><span style=\"color: #00af00; text-decoration-color: #00af00\">281,092</span> (1.07 MB)\n",
       "</pre>\n"
      ],
      "text/plain": [
       "\u001b[1m Total params: \u001b[0m\u001b[38;5;34m281,092\u001b[0m (1.07 MB)\n"
      ]
     },
     "metadata": {},
     "output_type": "display_data"
    },
    {
     "data": {
      "text/html": [
       "<pre style=\"white-space:pre;overflow-x:auto;line-height:normal;font-family:Menlo,'DejaVu Sans Mono',consolas,'Courier New',monospace\"><span style=\"font-weight: bold\"> Trainable params: </span><span style=\"color: #00af00; text-decoration-color: #00af00\">281,092</span> (1.07 MB)\n",
       "</pre>\n"
      ],
      "text/plain": [
       "\u001b[1m Trainable params: \u001b[0m\u001b[38;5;34m281,092\u001b[0m (1.07 MB)\n"
      ]
     },
     "metadata": {},
     "output_type": "display_data"
    },
    {
     "data": {
      "text/html": [
       "<pre style=\"white-space:pre;overflow-x:auto;line-height:normal;font-family:Menlo,'DejaVu Sans Mono',consolas,'Courier New',monospace\"><span style=\"font-weight: bold\"> Non-trainable params: </span><span style=\"color: #00af00; text-decoration-color: #00af00\">0</span> (0.00 B)\n",
       "</pre>\n"
      ],
      "text/plain": [
       "\u001b[1m Non-trainable params: \u001b[0m\u001b[38;5;34m0\u001b[0m (0.00 B)\n"
      ]
     },
     "metadata": {},
     "output_type": "display_data"
    }
   ],
   "source": [
    "from keras.models import Sequential\n",
    "from keras.layers import Conv2D, MaxPooling2D, Flatten, Dense\n",
    "\n",
    "# Create baseline CNN model\n",
    "model = models.Sequential()\n",
    "\n",
    "# 1st Convolutional Layer + Max Pooling + Dropout\n",
    "model.add(layers.Conv2D(16, (5, 5), activation='relu', input_shape=(32, 32, 3), strides=1, padding='same'))\n",
    "model.add(layers.MaxPooling2D((2, 2)))\n",
    "model.add(layers.Dropout(0.3))  # Dropout with 30% rate\n",
    "\n",
    "# 2nd Convolutional Layer + Max Pooling + Dropout\n",
    "model.add(layers.Conv2D(32, (3, 3), activation='relu', strides=1, padding='same'))\n",
    "model.add(layers.MaxPooling2D((2, 2)))\n",
    "model.add(layers.Dropout(0.3))  # Dropout with 30% rate\n",
    "\n",
    "# 3rd Convolutional Layer + Max Pooling + Dropout\n",
    "model.add(layers.Conv2D(64, (3, 3), activation='relu', strides=1, padding='valid'))  # Valid padding for more reduction\n",
    "model.add(layers.MaxPooling2D((2, 2)))\n",
    "model.add(layers.Dropout(0.3))  # Dropout with 30% rate\n",
    "\n",
    "# 4th Convolutional Layer + Dropout\n",
    "model.add(layers.Conv2D(128, (5, 5), activation='relu', strides=2, padding='valid'))  # Larger filter and stride 2\n",
    "model.add(layers.Dropout(0.4))  # Dropout with 40% rate\n",
    "\n",
    "# Flatten the output to feed it into Dense layers\n",
    "model.add(layers.Flatten())\n",
    "\n",
    "# Fully connected Dense layer + Dropout\n",
    "model.add(layers.Dense(512, activation='relu'))\n",
    "model.add(layers.Dropout(0.5))  # Dropout with 50% rate\n",
    "\n",
    "# Output Layer with 100 classes (for CIFAR-100)\n",
    "model.add(layers.Dense(100, activation='softmax'))\n",
    "\n",
    "# Print the model summary\n",
    "model.summary()\n",
    "\n"
   ]
  },
  {
   "cell_type": "markdown",
   "id": "546324c007c73db5",
   "metadata": {
    "collapsed": false
   },
   "source": [
    "### Task 2b: Compile the model\n",
    "\n",
    "- Select an appropriate loss function and optimizer for your model. These can be ones we have looked at already, or they can be different. \n",
    "- Briefly explain your choices (one or two sentences each).\n",
    "- <b>Loss function:</b> ______\n",
    "- <b>Optimizer:</b> ______"
   ]
  },
  {
   "cell_type": "markdown",
   "id": "b72fb3d3",
   "metadata": {},
   "source": [
    "**Loss Function: Categorical Cross-Entropy**\n",
    "The CIFAR-100 dataset has 100 different categories (like dogs, cars, etc.), and we want the model to correctly identify which category an image belongs to. Categorical cross-entropy helps the model figure out how far off its predictions are from the actual answers, so it can improve over time.\n",
    "\n",
    "\n",
    "**Optimizer: Adam**\n",
    "It's like a smart guide for the model during training. It adjusts how fast the model learns from its mistakes, helping it learn more quickly and accurately. It’s a popular choice because it helps the model get better at identifying things in images without taking too long to train."
   ]
  },
  {
   "cell_type": "code",
   "execution_count": 22,
   "id": "ab39f4ba69d684e9",
   "metadata": {
    "collapsed": false
   },
   "outputs": [],
   "source": [
    "from keras import optimizers\n",
    "\n",
    "# Compile the model\n",
    "\n",
    "model.compile(optimizer='adam', \n",
    "              loss='categorical_crossentropy', \n",
    "              metrics=['accuracy'])\n"
   ]
  },
  {
   "cell_type": "markdown",
   "id": "653fba928413b9f6",
   "metadata": {
    "collapsed": false
   },
   "source": [
    "## Task 3: Model Training and Evaluation (Complete or Incomplete)\n",
    "### Task 3a: Train the Model\n",
    "\n",
    "- Train your model for an appropriate number of epochs. Explain your choice of the number of epochs used - you can change this number before submitting your assignment.\n",
    "- Use a batch size of 32.\n",
    "- Use the validation set for validation."
   ]
  },
  {
   "cell_type": "code",
   "execution_count": 11,
   "id": "9de74f274ad08546",
   "metadata": {
    "collapsed": false
   },
   "outputs": [],
   "source": [
    "# Your code here"
   ]
  },
  {
   "cell_type": "markdown",
   "id": "b48615c26b99d2e9",
   "metadata": {
    "collapsed": false
   },
   "source": [
    "### Task 3b: Accuracy and other relevant metrics on the test set\n",
    "\n",
    "- Report the accuracy of your model on the test set.\n",
    "- While accuracy is a good metric, there are many other ways to numerically evaluate a model. Report at least one other metric, and explain what it measures and how it is calculated.\n",
    "\n",
    "- <b>Accuracy:</b> ______\n",
    "- <b>Other metric:</b> ______\n",
    "- <b>Reason for selection:</b> _____\n",
    "- <b>Value of metric:</b> ______\n",
    "- <b>Interpretation of metric value:</b> ______"
   ]
  },
  {
   "cell_type": "code",
   "execution_count": 12,
   "id": "f670665fda92fb0e",
   "metadata": {
    "ExecuteTime": {
     "end_time": "2024-01-26T17:49:39.016880Z",
     "start_time": "2024-01-26T17:49:39.012100Z"
    },
    "collapsed": false
   },
   "outputs": [],
   "source": [
    "# Your code here"
   ]
  },
  {
   "cell_type": "markdown",
   "id": "58d2d836d4e8ce99",
   "metadata": {
    "collapsed": false
   },
   "source": [
    "### Task 3c: Visualize the model's learning\n",
    "\n",
    "- Plot the training accuracy and validation accuracy with respect to epochs.\n",
    "- Select an image that the model correctly classified in the test set, and an image that the model incorrectly classified in the test set. Plot the images and report the model's classification probabilities for each.\n",
    "- Briefly discuss the results. What do the plots show? Do the results make sense? What do the classification probabilities indicate?"
   ]
  },
  {
   "cell_type": "code",
   "execution_count": 13,
   "id": "c5b214475a496ca5",
   "metadata": {
    "ExecuteTime": {
     "end_time": "2024-01-26T17:50:59.733968Z",
     "start_time": "2024-01-26T17:50:59.730635Z"
    },
    "collapsed": false
   },
   "outputs": [],
   "source": [
    "# Your code here"
   ]
  },
  {
   "cell_type": "markdown",
   "id": "a648758ebea0561d",
   "metadata": {
    "collapsed": false
   },
   "source": [
    "## Task 4: Model Enhancement (Complete or Incomplete)\n",
    "### Task 4a: Implementation of at least one advanced technique\n",
    "\n",
    "- Now it's time to improve your model. Implement at least one technique to improve your model's performance. You can use any of the techniques we have covered in class, or you can use a technique that we haven't covered. If you need inspiration, you can refer to the [Keras documentation](https://keras.io/).\n",
    "- Explain the technique you used and why you chose it.\n",
    "- If you used a technique that requires tuning, explain how you selected the values for the hyperparameters."
   ]
  },
  {
   "cell_type": "code",
   "execution_count": 14,
   "id": "f3659ac83122567f",
   "metadata": {
    "collapsed": false
   },
   "outputs": [],
   "source": [
    "# Your code here"
   ]
  },
  {
   "cell_type": "markdown",
   "id": "d9467a483a1dd5d3",
   "metadata": {
    "collapsed": false
   },
   "source": [
    "### Task 4b: Evaluation of the enhanced model\n",
    "\n",
    "- Re-train your model using the same number of epochs as before.\n",
    "- Compare the accuracy and other selected metric on the test set to the results you obtained before.\n",
    "- As before, plot the training accuracy and validation accuracy with respect to epochs, and select an image that the model correctly classified in the test set, and an image that the model incorrectly classified in the test set. Plot the images and report the model's classification probabilities for each."
   ]
  },
  {
   "cell_type": "code",
   "execution_count": 15,
   "id": "7c4701b36dc8fc55",
   "metadata": {
    "collapsed": false
   },
   "outputs": [],
   "source": [
    "# Your code here"
   ]
  },
  {
   "cell_type": "markdown",
   "id": "eadfc848700215e8",
   "metadata": {
    "collapsed": false
   },
   "source": [
    "### Task 4c: Discussion of the results\n",
    "\n",
    "- Briefly discuss the results. \n",
    "- Did the model's performance improve? \n",
    "- Why do you think this is?\n",
    "- Do you think there is room for further improvement? Why or why not?\n",
    "- What other techniques might you try in the future?\n",
    "- Your answer should be no more than 200 words.\n",
    "\n",
    "# Your answer here"
   ]
  },
  {
   "cell_type": "markdown",
   "id": "7415f68f",
   "metadata": {},
   "source": [
    "## Criteria\n",
    "\n",
    "|Criteria|Complete|Incomplete|\n",
    "|----|----|----|\n",
    "|Task 1|The task has been completed successfully and there are no errors.|The task is still incomplete and there is at least one error.|\n",
    "|Task 2|The task has been completed successfully and there are no errors.|The task is still incomplete and there is at least one error.|\n",
    "|Task 3|The task has been completed successfully and there are no errors.|The task is still incomplete and there is at least one error.|\n",
    "|Task 4|The task has been completed successfully and there are no errors.|The task is still incomplete and there is at least one error.|"
   ]
  },
  {
   "cell_type": "markdown",
   "id": "ad0c10bc",
   "metadata": {},
   "source": [
    "## Submission Information\n",
    "\n",
    "🚨 **Please review our [Assignment Submission Guide](https://github.com/UofT-DSI/onboarding/blob/main/onboarding_documents/submissions.md)** 🚨 for detailed instructions on how to format, branch, and submit your work. Following these guidelines is crucial for your submissions to be evaluated correctly.\n",
    "\n",
    "### Submission Parameters:\n",
    "* Submission Due Date: `HH:MM AM/PM - DD/MM/YYYY`\n",
    "* The branch name for your repo should be: `assignment-1`\n",
    "* What to submit for this assignment:\n",
    "    * This Jupyter Notebook (assignment_1.ipynb) should be populated and should be the only change in your pull request.\n",
    "* What the pull request link should look like for this assignment: `https://github.com/<your_github_username>/deep_learning/pull/<pr_id>`\n",
    "    * Open a private window in your browser. Copy and paste the link to your pull request into the address bar. Make sure you can see your pull request properly. This helps the technical facilitator and learning support staff review your submission easily.\n",
    "\n",
    "Checklist:\n",
    "- [ ] Created a branch with the correct naming convention.\n",
    "- [ ] Ensured that the repository is public.\n",
    "- [ ] Reviewed the PR description guidelines and adhered to them.\n",
    "- [ ] Verify that the link is accessible in a private browser window.\n",
    "\n",
    "If you encounter any difficulties or have questions, please don't hesitate to reach out to our team via our Slack at `#cohort-3-help`. Our Technical Facilitators and Learning Support staff are here to help you navigate any challenges."
   ]
  }
 ],
 "metadata": {
  "kernelspec": {
   "display_name": "dsi_participant",
   "language": "python",
   "name": "python3"
  },
  "language_info": {
   "codemirror_mode": {
    "name": "ipython",
    "version": 3
   },
   "file_extension": ".py",
   "mimetype": "text/x-python",
   "name": "python",
   "nbconvert_exporter": "python",
   "pygments_lexer": "ipython3",
   "version": "3.9.19"
  }
 },
 "nbformat": 4,
 "nbformat_minor": 5
}
